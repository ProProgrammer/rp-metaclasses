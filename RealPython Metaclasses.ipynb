{
 "cells": [
  {
   "cell_type": "markdown",
   "metadata": {},
   "source": [
    "Notes while reading through\n",
    "Python Metaclasses - https://realpython.com/python-metaclasses/"
   ]
  },
  {
   "cell_type": "code",
   "execution_count": 12,
   "metadata": {
    "scrolled": true
   },
   "outputs": [
    {
     "name": "stdout",
     "output_type": "stream",
     "text": [
      "<class '__main__.Foo'>\n",
      "<class '__main__.Foo'>\n"
     ]
    },
    {
     "data": {
      "text/plain": [
       "type"
      ]
     },
     "execution_count": 12,
     "metadata": {},
     "output_type": "execute_result"
    }
   ],
   "source": [
    "n = 5\n",
    "d = {'x': 1, 'y': 2}\n",
    "\n",
    "class Foo:\n",
    "    pass\n",
    "\n",
    "x = Foo()\n",
    "\n",
    "print(type(x))\n",
    "print(x.__class__)\n",
    "type(Foo)"
   ]
  },
  {
   "cell_type": "code",
   "execution_count": 13,
   "metadata": {},
   "outputs": [
    {
     "name": "stdout",
     "output_type": "stream",
     "text": [
      "<class 'type'>\n",
      "<class 'type'>\n",
      "<class 'type'>\n",
      "<class 'type'>\n",
      "<class 'type'>\n"
     ]
    }
   ],
   "source": [
    "for t in int, float, dict, list, tuple:\n",
    "    print(type(t))"
   ]
  },
  {
   "cell_type": "code",
   "execution_count": 14,
   "metadata": {},
   "outputs": [
    {
     "data": {
      "text/plain": [
       "type"
      ]
     },
     "execution_count": 14,
     "metadata": {},
     "output_type": "execute_result"
    }
   ],
   "source": [
    "type(type)"
   ]
  },
  {
   "cell_type": "code",
   "execution_count": 19,
   "metadata": {},
   "outputs": [],
   "source": [
    "# Defining a class using `type` statement\n",
    "# pattern - type(<name>, <bases>, <dct>)\n",
    "# name = Name of the class - becomes the __name__ attribute of class\n",
    "# bases = The base class from which this class should inherit - becomes the __bases__ attribute of the class\n",
    "# dict = Namespace dictionary containing definitions for the class body - becomes the __dict__ attribute of the class"
   ]
  },
  {
   "cell_type": "code",
   "execution_count": 20,
   "metadata": {},
   "outputs": [
    {
     "name": "stdout",
     "output_type": "stream",
     "text": [
      "<class '__main__.Foo'>\n",
      "<class 'type'>\n",
      "<class '__main__.Foo'>\n",
      "<class '__main__.Foo'>\n",
      "<class 'type'>\n",
      "<class '__main__.Foo'>\n"
     ]
    }
   ],
   "source": [
    "Foo = type('Foo', (), {})\n",
    "print(Foo)\n",
    "print(type(Foo))\n",
    "print(type(Foo()))"
   ]
  },
  {
   "cell_type": "code",
   "execution_count": 22,
   "metadata": {},
   "outputs": [
    {
     "name": "stdout",
     "output_type": "stream",
     "text": [
      "<class '__main__.Foo'>\n",
      "<class 'type'>\n",
      "<class '__main__.Foo'>\n"
     ]
    }
   ],
   "source": [
    "# Defining the same class using `class` statement\n",
    "class Foo:\n",
    "    pass\n",
    "\n",
    "x = Foo()\n",
    "print(Foo)\n",
    "print(type(Foo))\n",
    "print(type(x))"
   ]
  },
  {
   "cell_type": "code",
   "execution_count": 23,
   "metadata": {},
   "outputs": [
    {
     "name": "stdout",
     "output_type": "stream",
     "text": [
      "100\n",
      "<class '__main__.Bar'>\n",
      "(<class '__main__.Foo'>,)\n"
     ]
    }
   ],
   "source": [
    "# <bases> is a tuple with single element `Foo` - indicates parent class\n",
    "# <dict> defines attribute `attr` in the Bar class's namespace dictionary\n",
    "Bar = type('Bar', (Foo, ), dict(attr=100))\n",
    "x = Bar()\n",
    "print(x.attr)\n",
    "print(x.__class__)\n",
    "print(x.__class__.__bases__)\n",
    "\n"
   ]
  },
  {
   "cell_type": "code",
   "execution_count": 24,
   "metadata": {},
   "outputs": [
    {
     "name": "stdout",
     "output_type": "stream",
     "text": [
      "100\n",
      "<class '__main__.Bar'>\n",
      "(<class '__main__.Foo'>,)\n"
     ]
    }
   ],
   "source": [
    "# Defining the same class using `class` attribute\n",
    "class Bar(Foo):\n",
    "    attr = 100\n",
    "    \n",
    "y = Bar()\n",
    "print(y.attr)\n",
    "print(y.__class__)\n",
    "print(y.__class__.__bases__)"
   ]
  },
  {
   "cell_type": "code",
   "execution_count": 26,
   "metadata": {},
   "outputs": [
    {
     "name": "stdout",
     "output_type": "stream",
     "text": [
      "100\n",
      "100\n"
     ]
    }
   ],
   "source": [
    "# This time <bases> is again empty,\n",
    "# Two objects are placed in the namespace dictionary via the <dct> argument\n",
    "## First is named `attr`\n",
    "## Second is named `attr_val` - This becomes a method of the defined class\n",
    "\n",
    "Foo = type(\n",
    "    'Foo',\n",
    "    (),\n",
    "    {\n",
    "        'attr': 100,\n",
    "        'attr_val': lambda x: x.attr\n",
    "    }\n",
    "\n",
    ")\n",
    "x = Foo()\n",
    "print(x.attr)\n",
    "print(x.attr_val())"
   ]
  },
  {
   "cell_type": "code",
   "execution_count": 27,
   "metadata": {},
   "outputs": [
    {
     "name": "stdout",
     "output_type": "stream",
     "text": [
      "100\n",
      "100\n"
     ]
    }
   ],
   "source": [
    "# Defining the same class using `class` statement\n",
    "class Foo:\n",
    "    attr = 100\n",
    "    def attr_val(self):\n",
    "        return self.attr\n",
    "\n",
    "y = Foo()\n",
    "print(y.attr)\n",
    "print(y.attr_val())"
   ]
  },
  {
   "cell_type": "code",
   "execution_count": 30,
   "metadata": {},
   "outputs": [
    {
     "name": "stdout",
     "output_type": "stream",
     "text": [
      "100\n",
      "attr = 100\n",
      "None\n"
     ]
    }
   ],
   "source": [
    "# Using a slightly more complex function (defined externally) assigned to `attr_val`\n",
    "def f(obj):\n",
    "    print('attr = {}'.format(obj.attr))\n",
    "\n",
    "Foo = type(\n",
    "    'Foo',\n",
    "    (),\n",
    "    {\n",
    "        'attr': 100,\n",
    "        'attr_val': f\n",
    "    }\n",
    ")\n",
    "\n",
    "z = Foo()\n",
    "print(z.attr)\n",
    "print(z.attr_val())"
   ]
  },
  {
   "cell_type": "code",
   "execution_count": 33,
   "metadata": {},
   "outputs": [
    {
     "name": "stdout",
     "output_type": "stream",
     "text": [
      "100\n",
      "attr = 100\n",
      "None\n"
     ]
    }
   ],
   "source": [
    "# Same class now defined using `class` statement\n",
    "def f(obj):\n",
    "    print('attr = {}'.format(obj.attr))\n",
    "\n",
    "class Foo:\n",
    "    attr = 100\n",
    "    attr_val = f\n",
    "\n",
    "a = Foo()\n",
    "print(a.attr)\n",
    "print(a.attr_val())"
   ]
  },
  {
   "cell_type": "code",
   "execution_count": 34,
   "metadata": {},
   "outputs": [],
   "source": [
    "class Foo:\n",
    "    pass\n",
    "\n",
    "f = Foo()"
   ]
  },
  {
   "cell_type": "markdown",
   "metadata": {},
   "source": [
    "# Flow when a new class is created\n",
    "- Expression `Foo()` creates a new instance of class `Foo`\n",
    "- As interpreter encounters `Foo()`, following happens:\n",
    "  - `__call__()` method of `Foo`'s parent class is invoked\n",
    "  - `__call__()` method in turn invokes following:\n",
    "    - `__new__()`\n",
    "    - `__init__()`\n",
    "- If `Foo` doesn't define `__new__()` and `__init__()`, default methods are inherited from `Foo`'s ancestry\n",
    "- If `Foo` does define, they override from ancestry - hence we can define custom behaviour when instantiating `Foo`\n",
    "- Let's define a custom `__new__()` and use it for `Foo`"
   ]
  },
  {
   "cell_type": "code",
   "execution_count": 35,
   "metadata": {},
   "outputs": [
    {
     "name": "stdout",
     "output_type": "stream",
     "text": [
      "100\n"
     ]
    }
   ],
   "source": [
    "def new(cls):\n",
    "    x = object.__new__(cls)\n",
    "    x.attr = 100\n",
    "    return x\n",
    "\n",
    "Foo.__new__ = new\n",
    "f = Foo()\n",
    "print(f.attr)"
   ]
  },
  {
   "cell_type": "code",
   "execution_count": 36,
   "metadata": {},
   "outputs": [
    {
     "name": "stdout",
     "output_type": "stream",
     "text": [
      "100\n"
     ]
    }
   ],
   "source": [
    "g = Foo()\n",
    "print(g.attr)"
   ]
  },
  {
   "cell_type": "markdown",
   "metadata": {},
   "source": [
    "- You cannot modify `__new__()` on `type` metaclass (if you wanted to customize the behavior **while creating the class**) - Python does not allow this, see example below:"
   ]
  },
  {
   "cell_type": "code",
   "execution_count": 37,
   "metadata": {},
   "outputs": [
    {
     "ename": "TypeError",
     "evalue": "can't set attributes of built-in/extension type 'type'",
     "output_type": "error",
     "traceback": [
      "\u001b[0;31m---------------------------------------------------------------------------\u001b[0m",
      "\u001b[0;31mTypeError\u001b[0m                                 Traceback (most recent call last)",
      "\u001b[0;32m<ipython-input-37-06fe9cafdaea>\u001b[0m in \u001b[0;36m<module>\u001b[0;34m\u001b[0m\n\u001b[1;32m      4\u001b[0m     \u001b[0;32mreturn\u001b[0m \u001b[0mx\u001b[0m\u001b[0;34m\u001b[0m\u001b[0m\n\u001b[1;32m      5\u001b[0m \u001b[0;34m\u001b[0m\u001b[0m\n\u001b[0;32m----> 6\u001b[0;31m \u001b[0mtype\u001b[0m\u001b[0;34m.\u001b[0m\u001b[0m__new__\u001b[0m \u001b[0;34m=\u001b[0m \u001b[0mnew\u001b[0m\u001b[0;34m\u001b[0m\u001b[0m\n\u001b[0m",
      "\u001b[0;31mTypeError\u001b[0m: can't set attributes of built-in/extension type 'type'"
     ]
    }
   ],
   "source": [
    "def new(cls):\n",
    "    x = type.__new__(cls)\n",
    "    x.attr = 100\n",
    "    return x\n",
    "\n",
    "type.__new__ = new"
   ]
  },
  {
   "cell_type": "markdown",
   "metadata": {},
   "source": [
    "A workaround here is to not mess around `type` metaclass but instead to define your own metaclass with customized `__new__()`, see example:"
   ]
  },
  {
   "cell_type": "code",
   "execution_count": 38,
   "metadata": {},
   "outputs": [],
   "source": [
    "class Meta(type):\n",
    "    def __new__(cls, name, bases, dct):\n",
    "        x = super().__new__(cls, name, bases, dct)\n",
    "        x.attr = 100\n",
    "        return x"
   ]
  },
  {
   "cell_type": "markdown",
   "metadata": {},
   "source": [
    "What makes `Meta` a metaclass is that it inherits from `type` which is itself a metaclass\n",
    "\n",
    "We couldn't modify `type`'s `__new__()` directly, we were able to create a new metaclass `Meta` with a customized `__new__()` method.\n",
    "\n",
    "The `__new__()` method does following:\n",
    "- Delegates via `super()` to the `__new__()` method of the parent metaclass (`type`) to actually create a new class\n",
    "- Assigns the custom attribute `attr` to the class, with value of `100`\n",
    "- Returns the newly created class\n",
    "\n",
    "Now let us define a new class `Foo` with metaclass as `Meta`"
   ]
  },
  {
   "cell_type": "code",
   "execution_count": 39,
   "metadata": {},
   "outputs": [
    {
     "data": {
      "text/plain": [
       "100"
      ]
     },
     "execution_count": 39,
     "metadata": {},
     "output_type": "execute_result"
    }
   ],
   "source": [
    "class Foo(metaclass=Meta):\n",
    "    pass\n",
    "\n",
    "Foo.attr\n",
    "# Foo picks up the `attr` attribute automatically from the metaclass"
   ]
  },
  {
   "cell_type": "code",
   "execution_count": 40,
   "metadata": {},
   "outputs": [
    {
     "data": {
      "text/plain": [
       "(100, 100)"
      ]
     },
     "execution_count": 40,
     "metadata": {},
     "output_type": "execute_result"
    }
   ],
   "source": [
    "# Let us try some more\n",
    "class Bar(metaclass=Meta):\n",
    "    pass\n",
    "class NewClass(metaclass=Meta):\n",
    "    pass\n",
    "\n",
    "Bar.attr, NewClass.attr"
   ]
  },
  {
   "cell_type": "markdown",
   "metadata": {},
   "source": [
    "Just as class functions as a template for the creation of objects (instances of that particular class), a metaclass functions as a template for creation of classes.\n",
    "Metaclasses are sometimes referred to as [class factories](https://en.wikipedia.org/wiki/Factory_(object-oriented_programming/)"
   ]
  },
  {
   "cell_type": "markdown",
   "metadata": {},
   "source": [
    "# Object Factory"
   ]
  },
  {
   "cell_type": "code",
   "execution_count": 41,
   "metadata": {},
   "outputs": [
    {
     "name": "stdout",
     "output_type": "stream",
     "text": [
      "100\n",
      "100\n",
      "100\n"
     ]
    }
   ],
   "source": [
    "class Foo:\n",
    "    def __init__(self):\n",
    "        self.attr = 100\n",
    "\n",
    "x = Foo()\n",
    "print(x.attr)\n",
    "\n",
    "y = Foo()\n",
    "print(y.attr)\n",
    "\n",
    "z = Foo()\n",
    "print(z.attr)"
   ]
  },
  {
   "cell_type": "markdown",
   "metadata": {},
   "source": [
    "# Class Factory"
   ]
  },
  {
   "cell_type": "code",
   "execution_count": 43,
   "metadata": {},
   "outputs": [
    {
     "name": "stdout",
     "output_type": "stream",
     "text": [
      "100\n",
      "100\n",
      "100\n"
     ]
    }
   ],
   "source": [
    "class Meta(type):\n",
    "    def __init__(\n",
    "        cls, name, bases, dct\n",
    "    ):\n",
    "        cls.attr = 100\n",
    "\n",
    "class X(metaclass=Meta):\n",
    "    pass\n",
    "\n",
    "print(X.attr)\n",
    "\n",
    "\n",
    "class Y(metaclass=Meta):\n",
    "    pass\n",
    "\n",
    "print(Y.attr)\n",
    "\n",
    "\n",
    "class Z(metaclass=Meta):\n",
    "    pass\n",
    "\n",
    "print(Z.attr)"
   ]
  },
  {
   "cell_type": "markdown",
   "metadata": {},
   "source": [
    "# Question - Is it really worth it?\n",
    "## Other ways in which the above can be accomplished\n"
   ]
  },
  {
   "cell_type": "markdown",
   "metadata": {},
   "source": [
    "### Simple Inheritance"
   ]
  },
  {
   "cell_type": "code",
   "execution_count": 44,
   "metadata": {},
   "outputs": [
    {
     "name": "stdout",
     "output_type": "stream",
     "text": [
      "100\n",
      "100\n",
      "100\n"
     ]
    }
   ],
   "source": [
    "class Base:\n",
    "    attr = 100\n",
    "\n",
    "class X(Base):\n",
    "    pass\n",
    "\n",
    "class Y(Base):\n",
    "    pass\n",
    "\n",
    "class Z(Base):\n",
    "    pass\n",
    "\n",
    "print(X.attr)\n",
    "print(Y.attr)\n",
    "print(Z.attr)"
   ]
  },
  {
   "cell_type": "markdown",
   "metadata": {},
   "source": [
    "### Class Decorator"
   ]
  },
  {
   "cell_type": "code",
   "execution_count": 45,
   "metadata": {},
   "outputs": [
    {
     "name": "stdout",
     "output_type": "stream",
     "text": [
      "100\n",
      "100\n",
      "100\n"
     ]
    }
   ],
   "source": [
    "def decorator(cls):\n",
    "    class NewClass(cls):\n",
    "        attr = 100\n",
    "    return NewClass\n",
    "\n",
    "@decorator\n",
    "class X:\n",
    "    pass\n",
    "\n",
    "@decorator\n",
    "class Y:\n",
    "    pass\n",
    "\n",
    "@decorator\n",
    "class Z:\n",
    "    pass\n",
    "\n",
    "print(X.attr)\n",
    "print(Y.attr)\n",
    "print(Z.attr)"
   ]
  },
  {
   "cell_type": "markdown",
   "metadata": {},
   "source": [
    "# Conclusion\n",
    "\n",
    "As Tim Peters suggests, metaclasses can easily veer into the realm of being a “solution in search of a problem.” It isn’t typically necessary to create custom metaclasses. If the problem at hand can be solved in a simpler way, it probably should be.\n",
    "Still, it is beneficial to understand metaclasses so that you understand Python classes in general and can recognize when a metaclass really is the appropriate tool to use."
   ]
  },
  {
   "cell_type": "code",
   "execution_count": null,
   "metadata": {},
   "outputs": [],
   "source": []
  }
 ],
 "metadata": {
  "kernelspec": {
   "display_name": "Python 3",
   "language": "python",
   "name": "python3"
  },
  "language_info": {
   "codemirror_mode": {
    "name": "ipython",
    "version": 3
   },
   "file_extension": ".py",
   "mimetype": "text/x-python",
   "name": "python",
   "nbconvert_exporter": "python",
   "pygments_lexer": "ipython3",
   "version": "3.5.7"
  }
 },
 "nbformat": 4,
 "nbformat_minor": 2
}
